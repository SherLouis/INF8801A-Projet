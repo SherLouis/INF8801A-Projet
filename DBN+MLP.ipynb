{
 "cells": [
  {
   "cell_type": "markdown",
   "metadata": {
    "colab_type": "text",
    "id": "inqmpjvQ5txG"
   },
   "source": [
    "# **Imports**"
   ]
  },
  {
   "cell_type": "code",
   "execution_count": 0,
   "metadata": {
    "colab": {},
    "colab_type": "code",
    "id": "x5ceAs9r1c42"
   },
   "outputs": [],
   "source": [
    "import numpy as np\n",
    "import matplotlib.pyplot as plt\n",
    "\n",
    "import torch\n",
    "import sklearn as skl\n",
    "from sklearn.model_selection import train_test_split\n",
    "import librosa\n",
    "import os\n",
    "import pickle\n",
    "\n",
    "import torch\n",
    "import torchvision\n",
    "import torchvision.transforms as transforms\n",
    "from torch.autograd import Variable\n",
    "import torch.nn as nn\n",
    "import torch.nn.functional as F\n",
    "import math\n",
    "from tqdm import tqdm\n",
    "import sys"
   ]
  },
  {
   "cell_type": "markdown",
   "metadata": {
    "colab_type": "text",
    "id": "ejBwv9vRjBs4"
   },
   "source": [
    "# Classes"
   ]
  },
  {
   "cell_type": "markdown",
   "metadata": {
    "colab_type": "text",
    "id": "yWKggjlv5oe5"
   },
   "source": [
    "## **RBM**"
   ]
  },
  {
   "cell_type": "code",
   "execution_count": 0,
   "metadata": {
    "colab": {},
    "colab_type": "code",
    "id": "k-EFeesw1xds"
   },
   "outputs": [],
   "source": [
    "BATCH_SIZE = 64\n",
    "\n",
    "class RBM(nn.Module):\n",
    "    '''\n",
    "    Classe RBM (Restricted Bolzman Machine)\n",
    "    Modifé à partir de l'implémentaion de mehulrastogi sur GitHub (https://github.com/mehulrastogi/Deep-Belief-Network-pytorch)\n",
    "    '''\n",
    "\n",
    "    def __init__(self,\n",
    "                visible_units=50,\n",
    "                hidden_units = 50,\n",
    "                k=2,\n",
    "                learning_rate=1e-3,\n",
    "                momentum_coefficient = 0.5,\n",
    "                learning_rate_decay = False,\n",
    "                xavier_init = False,\n",
    "                increase_to_cd_k = False,\n",
    "                use_gpu = False,\n",
    "                _activation = 'sigmoid',\n",
    "                batch_size = 16\n",
    "                ):\n",
    "        '''\n",
    "        Définition du modèle\n",
    "        '''\n",
    "        super(RBM,self).__init__()\n",
    "        self.desc = \"RBM\"\n",
    "\n",
    "        self.visible_units = visible_units\n",
    "        self.hidden_units = hidden_units\n",
    "        self.k = k\n",
    "        self.learning_rate = learning_rate\n",
    "        self.momentum_coefficient = momentum_coefficient\n",
    "        self.learning_rate_decay = learning_rate_decay\n",
    "        self.xavier_init = xavier_init\n",
    "        self.increase_to_cd_k = increase_to_cd_k\n",
    "        self.use_gpu = use_gpu\n",
    "        self._activation = _activation\n",
    "        self.batch_size = batch_size\n",
    "\n",
    "\n",
    "        # Initialization\n",
    "        self.W = torch.randn(self.visible_units, self.hidden_units) / math.sqrt(self.visible_units)\n",
    "        self.h_bias = torch.randn(self.hidden_units) / math.sqrt(self.hidden_units) #hidden layer bias\n",
    "        self.v_bias = torch.randn(self.visible_units) / math.sqrt(self.visible_units)#visible layer bias\n",
    "\n",
    "        self.W_momentum = torch.zeros(self.visible_units, self.hidden_units)\n",
    "        self.h_bias_momentum = torch.zeros(self.hidden_units)\n",
    "        self.v_bias_momentum = torch.zeros(self.visible_units)\n",
    "\n",
    "    def activation(self, X):\n",
    "      \"\"\"\n",
    "      Obtenir l'activation de données selon l'activation définie\n",
    "      :param X: données à passer à la fonction d'activation\n",
    "      \"\"\"\n",
    "      if self._activation == 'sigmoid':\n",
    "        return torch.sigmoid(X)\n",
    "      elif self._activation == 'tanh':\n",
    "        return torch.tanh(X)\n",
    "      elif self._activation == 'relu':\n",
    "        return torch.relu(X)\n",
    "      else:\n",
    "        raise ValueError(\"Invalid Activation Function\")\n",
    "\n",
    "    def to_hidden(self ,X):\n",
    "        '''\n",
    "        Prédire la sortie à partir de l'entrée (X)\n",
    "        :param X: probabilités visibles (torch.tensor de taille (n_exemples, n_features))\n",
    "        :return \n",
    "            X_prob : probabilités de sortie\n",
    "            sample_X_prob : Échantillonage de Gibbs (1 ou 0) selon les valeurs\n",
    "        '''\n",
    "        X_prob = torch.matmul(X,self.W)\n",
    "        X_prob = torch.add(X_prob, self.h_bias)#W.x + c\n",
    "        X_prob  = self.activation(X_prob)\n",
    "\n",
    "        sample_X_prob = self.sampling(X_prob)\n",
    "\n",
    "        return X_prob,sample_X_prob\n",
    "\n",
    "    def to_visible(self,X):\n",
    "        '''\n",
    "        Reconstruire l'entrée à partir de la sortie et échantillonage\n",
    "        :param X : probabilités de sortie\n",
    "        :return \n",
    "            X_prob : probabilités de l'entrée reconstruite\n",
    "            sample_X_prob : Échantillonage de Gibbs (1 ou 0) selon les valeurs\n",
    "        '''\n",
    "        # computing hidden activations and then converting into probabilities\n",
    "        X_prob = torch.matmul(X ,self.W.transpose( 0 , 1) )\n",
    "        X_prob = torch.add(X_prob , self.v_bias)\n",
    "        X_prob = self.activation(X_prob)\n",
    "\n",
    "        sample_X_prob = self.sampling(X_prob)\n",
    "\n",
    "        return X_prob,sample_X_prob\n",
    "\n",
    "    def sampling(self,prob):\n",
    "        '''\n",
    "        Échantillogane de Bernoulli selon la probabilité\n",
    "        :param prob : probabilité à utiliser\n",
    "        :return s : résulat de l'échantillogane selon la distribution de Bernoulli\n",
    "        '''\n",
    "        s = torch.distributions.Bernoulli(prob).sample()\n",
    "        return s\n",
    "\n",
    "    def reconstruction_error(self , data):\n",
    "        '''\n",
    "        Calcul l'erreur de reconstruction depuis les données\n",
    "        '''\n",
    "        return self.contrastive_divergence(data, False)\n",
    "\n",
    "    def reconstruct(self , X,n_gibbs):\n",
    "        '''\n",
    "        Reconstruction à partir de l'entrée (allé-retour)\n",
    "        :param X : données en entrée\n",
    "        :return \n",
    "          Probabilités des valeurs reconstruites\n",
    "          Échantillonage (0 ou 1) selon les valeurs\n",
    "        '''\n",
    "        v = X\n",
    "        for i in range(n_gibbs):\n",
    "            prob_h_,h = self.to_hidden(v)\n",
    "            prob_v_,v = self.to_visible(prob_h_)\n",
    "        return prob_v_,v\n",
    "\n",
    "\n",
    "    def contrastive_divergence(self, input_data ,training = True):\n",
    "      \"\"\"\n",
    "      Applique l'algorithme de \"contrastive_divergence\" pour obtimiser les paramètres\n",
    "      :param input_data : données en entrée (données d'entrainement)\n",
    "      :param training : doit entrainer ou non\n",
    "      :return error : Erreur de prédiction (Loss)\n",
    "      \"\"\"\n",
    "        # positive phase\n",
    "        positive_hidden_probabilities,positive_hidden_act  = self.to_hidden(input_data)\n",
    "\n",
    "        # calculating W via positive side\n",
    "        positive_associations = torch.matmul(input_data.t() , positive_hidden_act)\n",
    "\n",
    "        # negetive phase\n",
    "        hidden_activations = positive_hidden_act\n",
    "        for i in range(self.k):\n",
    "            visible_probabilities , _ = self.to_visible(hidden_activations)\n",
    "            hidden_probabilities,hidden_activations = self.to_hidden(visible_probabilities)\n",
    "\n",
    "        negative_visible_probabilities = visible_probabilities\n",
    "        negative_hidden_probabilities = hidden_probabilities\n",
    "\n",
    "        # calculating W via negative side\n",
    "        negative_associations = torch.matmul(negative_visible_probabilities.t() , negative_hidden_probabilities)\n",
    "\n",
    "\n",
    "        # Update parameters\n",
    "        if(training):\n",
    "          self.W_momentum *= self.momentum_coefficient\n",
    "          self.W_momentum += (positive_associations - negative_associations)\n",
    "\n",
    "          self.v_bias_momentum *= self.momentum_coefficient\n",
    "          self.v_bias_momentum += torch.sum(input_data - negative_visible_probabilities, dim = 0)\n",
    "\n",
    "          self.h_bias_momentum *= self.momentum_coefficient\n",
    "          self.h_bias_momentum += torch.sum(positive_hidden_probabilities - negative_hidden_probabilities, dim = 0)\n",
    "\n",
    "          self.W += self.W_momentum * self.learning_rate / self.batch_size\n",
    "          self.v_bias += self.v_bias_momentum * self.learning_rate / self.batch_size\n",
    "          self.h_bias += self.h_bias_momentum * self.learning_rate / self.batch_size\n",
    "\n",
    "        # Compute reconstruction error\n",
    "        error = torch.mean(torch.sum((input_data - negative_visible_probabilities)**2 , 1))\n",
    "        return error\n",
    "\n",
    "\n",
    "    def forward(self,input_data):\n",
    "        \"\"\"\n",
    "        Équivalent à appeler RBN.to_hidden(input_data)\n",
    "        \"\"\"\n",
    "        return  self.to_hidden(input_data)\n",
    "\n",
    "    def step(self,input_data):\n",
    "        \"\"\"\n",
    "        Appele contrastive_divergence. Utiliser lors de l'entrainement\n",
    "        \"\"\"\n",
    "        return self.contrastive_divergence(input_data , True)\n",
    "\n",
    "\n",
    "    def train(self,train_data , num_epochs = 50,batch_size=20):\n",
    "      \"\"\"\n",
    "      Entrainement du RBM\n",
    "      :param train_data : données pour l'entrainement\n",
    "      :param num_epochs : nombre d'époques pour l'entrainement\n",
    "      :param batch_size : taille des batchs pour l'entrainement\n",
    "      \"\"\"\n",
    "      self.batch_size = batch_size\n",
    "      if(isinstance(train_data ,torch.utils.data.DataLoader)):\n",
    "        train_loader = train_data\n",
    "      else:\n",
    "        train_loader = torch.utils.data.DataLoader(train_data, batch_size=batch_size)\n",
    "      \n",
    "      n_batches = int(len(train_loader))\n",
    "      for epoch in range(num_epochs):\n",
    "        epoch_err = 0.0\n",
    "        # print(n_batches)\n",
    "        cost_ = torch.FloatTensor(n_batches , 1)\n",
    "        for i,(batch,_) in tqdm(enumerate(train_loader),ascii=True, desc=\"RBM fitting\", file=sys.stdout):\n",
    "          batch = batch.view(len(batch) , self.visible_units)\n",
    "          if(self.use_gpu):\n",
    "            batch = batch.cuda()\n",
    "          cost_[i] = self.step(batch, num_epochs)\n",
    "        print(\"Epoch:{} ,avg_cost = {} ,std_cost = {} \".format(epoch, torch.mean(cost_), torch.std(cost_)))\n",
    "      return\n",
    "      \n",
    "    def extract_features(self, test_dataset):\n",
    "      \"\"\"\n",
    "      Extraction des sorties du RBM à partir des données du test_dataset\n",
    "      :param test_dataset : DataLoader des données de test\n",
    "      :return \n",
    "        test_features: activations du RBM\n",
    "        test_labels : Étiquettes associées aux exemples\n",
    "      \"\"\"\n",
    "      if(isinstance(test_dataset, torch.utils.data.DataLoader)):\n",
    "        test_loader = test_dataset\n",
    "      else:\n",
    "        test_loader = torch.utils.data.DataLoader(test_dataset, batch_size = self.batch_size)\n",
    "      \n",
    "      test_features = []\n",
    "      test_labels = []\n",
    "\n",
    "      for i,(batch,labels) in enumerate(test_loader):\n",
    "        batch = batch.view(len(batch), self.visible_unites)\n",
    "\n",
    "        if self.use_gpu:\n",
    "          batch = batch.cuda()\n",
    "        test_labels.append(labels.numpy())\n",
    "        test_features.append((self.to_hidden(batch)[0].numpy(), self.to_hidden(batch)[1].numpy()))\n",
    "      return(np.array(test_features), np.array(test_labels))\n"
   ]
  },
  {
   "cell_type": "markdown",
   "metadata": {
    "colab_type": "text",
    "id": "2dV1c78h5a1B"
   },
   "source": [
    "##**DBN**"
   ]
  },
  {
   "cell_type": "code",
   "execution_count": 0,
   "metadata": {
    "colab": {},
    "colab_type": "code",
    "id": "Dg4rnQjyORCQ"
   },
   "outputs": [],
   "source": [
    "class DBN(nn.Module):\n",
    "\tdef __init__(self,\n",
    "\t\t\t\t visible_units=513,  # Taille de la couche d'entrée\n",
    "\t\t\t\t hidden_units=[50, 50, 50],  # Couches cachées\n",
    "\t\t\t\t n_outputs = 10,\n",
    "\t\t\t\t k=2,\n",
    "\t\t\t\t learning_rate=1e-3,\n",
    "\t\t\t\t momentum_coefficient = 0.9,\n",
    "\t\t\t\t learning_rate_decay=False,\n",
    "\t\t\t\t xavier_init=False,\n",
    "\t\t\t\t increase_to_cd_k=False,\n",
    "\t\t\t\t use_gpu=False,\n",
    "\t\t\t\t _activation = 'sigmoid'\n",
    "\t\t\t\t ):\n",
    "\t\t\"\"\"\n",
    "\t\t:param visible_units: Taille de la couche d'entrée (nombre de noeuds dans la première couche)\n",
    "\t\t:param hidden_units: Liste du nombre de noeuds dans chaque couche cachée\n",
    "\t\t:param n_outputs : Nombre de sortie (à la dernière couche)\n",
    "\t\t:param k: Paramètre k pour l'entrainement des RBM\n",
    "\t\t:param learning_rate: taux d'apprentissage pour l'entrainement non-supervisé des RBM\n",
    "\t\t:param momentum_coefficient : Valeur du momentum pour l'entrainement\n",
    "\t\t:param learning_rate_decay: True ou False (decay du learing rate ou pas (régularisation))\n",
    "\t\t:param xavier_init: True ou False (initialisation xavier ou pas)\n",
    "\t\t:param increase_to_cd_k: False\n",
    "\t\t:param use_gpu: True ou False (utiliser GPU si CUDA disponible ou non)\n",
    "\t\t\"\"\"\n",
    "\t\tsuper(DBN, self).__init__()\n",
    "\n",
    "\t\t# Nombre de RBM = nombre de couches cachées\n",
    "\t\tself.n_layers = len(hidden_units)\n",
    "\t\tself.rbm_layers = []\n",
    "\n",
    "\t\t# Création des différents RBMs pour le préentrainement\n",
    "\t\tfor i in range(self.n_layers):\n",
    "\t\t\tif i == 0: # Couche d'entrée\n",
    "\t\t\t\tinput_size = visible_units\n",
    "\t\t\telse: # Couches cachées\n",
    "\t\t\t\tinput_size = hidden_units[i - 1]\n",
    "\t\t\trbm = RBM(visible_units = input_size,\n",
    "\t\t\t    \t\t\thidden_units = hidden_units[i],\n",
    "\t\t\t\t\t\t\t\tk = k,\n",
    "\t\t\t\t\t\t\t\tlearning_rate = learning_rate,\n",
    "\t\t\t\t\t\t\t\tmomentum_coefficient = momentum_coefficient,\n",
    "\t\t\t\t\t\t\t\tlearning_rate_decay = learning_rate_decay,\n",
    "\t\t\t\t\t\t\t\txavier_init = xavier_init,\n",
    "\t\t\t\t\t\t\t\tincrease_to_cd_k = increase_to_cd_k,\n",
    "\t\t\t\t\t\t\t\tuse_gpu = use_gpu,\n",
    "\t\t\t\t\t\t\t\t_activation = _activation\n",
    "\t\t\t\t\t\t\t\t)\n",
    "\t\t\tself.rbm_layers.append(rbm)\n",
    "\t \n",
    "\t\t# Réseau forward pour l'entrainement supervisé\n",
    "\t\t_act = nn.Sigmoid()\n",
    "\t\tif _activation == 'tanh':\n",
    "\t\t\t_act = nn.Tanh()\n",
    "\t\telif _activation == 'relu':\n",
    "\t\t\t_act = nn.ReLU()\n",
    "\t\t\n",
    "\t\tself._act = _act\n",
    "\t\tself.forward_layers = nn.ModuleList()\n",
    "\n",
    "\t\tfor i in range(self.n_layers):\n",
    "\t\t\tif i == 0: # Couche d'entrée\n",
    "\t\t\t\tinput_size = visible_units\n",
    "\t\t\telse:\n",
    "\t\t\t\tinput_size = hidden_units[i-1]\n",
    "\t\t\tself.forward_layers.append(\n",
    "\t\t\t\t\t\tnn.Linear(input_size, hidden_units[i]),\n",
    "\t\t\t)\n",
    "\t\t# Couche de sortie\n",
    "\t\tself.forward_layers.append(\n",
    "\t\t\t\tnn.Linear(hidden_units[-1], n_outputs)\n",
    "\t\t)\n",
    "\n",
    "\tdef forward_rbm(self, input_data):\n",
    "\t\t\"\"\"\n",
    "\t\tFaire l'activation avant des couches RBM (forward pass)\n",
    "\t\t:param input_data: données d'entrée\n",
    "\t\t:return:\n",
    "\t\t\tp_v : probabilités\n",
    "\t\t\tv : valeurs (basée sur le sampling de la distribution dans les RBMs)\n",
    "\t\t\"\"\"\n",
    "\t\tv = input_data\n",
    "\t\tfor i in range(len(self.rbm_layers)):\n",
    "\t\t\tv = v.view((v.shape[0], -1)).type(torch.FloatTensor)  # flatten\n",
    "\t\t\tp_v, v = self.rbm_layers[i].forward(v)\n",
    "\t\treturn p_v\n",
    "\t\n",
    "\tdef forward_nn(self, input_data):\n",
    "\t\t\"\"\"\n",
    "\t\tPassage avant dans le réseau avec les paramètres du nn.Sequential\n",
    "\t\t:param input_data : données d'entrée\n",
    "\t\t:return x : Valeurs de sortie \n",
    "\t\t\"\"\"\n",
    "\t\tx = input_data\n",
    "\t\tfor i in range(len(self.forward_layers)-1):\n",
    "\t\t\tx = self.forward_layers[i].forward(x)\n",
    "\t\t\tx = self._act(x)\n",
    "\t\tx = self.forward_layers[-1].forward(x)\n",
    "\t\treturn(x)\n",
    "\n",
    "\tdef reconstruct(self, input_data):\n",
    "\t\t\"\"\"\n",
    "\t\tFait le forward pass et reconstruit l'entrée (backward pass)\n",
    "\t\t:param input_data: données d'entére\n",
    "\t\t:return:\n",
    "\t\t\tp_v : probabilités\n",
    "\t\t\tv : données reconstruites\n",
    "\t\t\"\"\"\n",
    "\t\th = input_data\n",
    "\t\tp_h = 0\n",
    "\t\tfor i in range(len(self.rbm_layers)):\n",
    "\t\t\th = h.view((h.shape[0], -1)).type(torch.FloatTensor)  # flatten\n",
    "\t\t\tp_h, h = self.rbm_layers[i].to_hidden(h)\n",
    "\n",
    "\t\tv = h\n",
    "\t\tfor i in range(len(self.rbm_layers) - 1, -1, -1):\n",
    "\t\t\tv = v.view((v.shape[0], -1)).type(torch.FloatTensor)\n",
    "\t\t\tp_v, v = self.rbm_layers[i].to_visible(v)\n",
    "\t\treturn p_v, v\n",
    "\t\n",
    "\tdef get_activation(self, input_data, layer):\n",
    "\t\t\"\"\"\n",
    "\t\tExtraction des activations du réseau à la couche layer\n",
    "\t\t:param input_data : données d'entrée\n",
    "\t\t:param layer : Couche à laquelle obtenit les activations\n",
    "\t\t:return v : Activations à la couche voulue\n",
    "\t\t\"\"\"\n",
    "\t\tv = input_data.view((input_data.shape[0], -1)).type(torch.FloatTensor)\n",
    "\t\tif layer > len(self.forward_layers):\n",
    "\t\t\traise ValueError(\"Layer {} is out of range ({} layers in the network)\".format(layer, len(self.forward_layers)))\n",
    "\t\telif layer == len(self.forward_layers):\n",
    "\t\t\tv = self.forward_nn(v)\n",
    "\t\telse:\n",
    "\t\t\tfor ith in range(layer):\n",
    "\t\t\t\tv = self.forward_layers[ith].forward(v)\n",
    "\t\t\t\tv = self._act(v)\n",
    "\t\treturn(v)\n",
    "\n",
    "\tdef train_static(self, train_data, train_labels, num_epochs=50, batch_size=10):\n",
    "\t\t'''\n",
    "\t\tEntrainement non supervisé des couches du DBN\n",
    "\t\t:param train_data : données d'entrée pour l'entrainement\n",
    "\t\t:param train_labels : Étiquettes (utilisées uniquement pour créer le dataloader)\n",
    "\t\t:param num_epochs : Nombre d'époques d'entrainement\n",
    "\t\t:param batch_size : Taille des batchs\n",
    "\t\t'''\n",
    "\n",
    "\t\ttmp = train_data\n",
    "\n",
    "\t\tfor i in range(len(self.rbm_layers)):\n",
    "\t\t\tprint(\"-\" * 20)\n",
    "\t\t\tprint(\"Training the {} st rbm layer\".format(i + 1))\n",
    "\n",
    "\t\t\ttensor_x = tmp.type(torch.FloatTensor)  # transform to torch tensors\n",
    "\t\t\ttensor_y = train_labels.type(torch.FloatTensor)\n",
    "\t\t\t_dataset = torch.utils.data.TensorDataset(tensor_x, tensor_y)  # create your datset\n",
    "\t\t\t_dataloader = torch.utils.data.DataLoader(_dataset, batch_size=batch_size,\n",
    "\t\t\t\t\t\t\t\t\t\t\t\t\t  drop_last=True)  # create your dataloader\n",
    "\n",
    "\t\t\tself.rbm_layers[i].train(_dataloader, num_epochs, batch_size)\n",
    "\t\t\tv = tmp.view((tmp.shape[0], -1)).type(torch.FloatTensor)  # flatten\n",
    "\t\t\tp_v,v = self.rbm_layers[i].forward(v)\n",
    "\t\t\ttmp = v\n",
    "\t\treturn\n",
    "\t\n",
    "\tdef train_supervised(self, train_data, train_labels, val_data, val_labels, num_epochs, lr, batch_size=10):\n",
    "\t\t\"\"\"\n",
    "\t\tEntrainement supervisé (fine-tuning des paramètres)\n",
    "\t\t:param train_data : données d'entrée pour l'entrainement\n",
    "\t\t:param train_labels : étiquettes des données d'entrainement\n",
    "\t\t:param val_data : données d'entrée pour la validation \n",
    "\t\t:param val_labels : étiquettes des données de validation\n",
    "\t\t:param num_epochs : nombre d'époques pour l'entrainement\n",
    "\t\t:pram lr : taux d'apprentissage (learning rate)\n",
    "\t\t:param batch_size : taille des batchs pour l'entrainement\n",
    "\t\t:return\n",
    "\t\t\ttrain_losses : liste des coûts pour chaque époque d'entrainement\n",
    "\t\t\tval_acc : liste des précision sur l'enssemble de validation pour chaque époque d'entrainement\n",
    "\t\t\"\"\"\n",
    "\t\t# Mise à jour de paramètres avec ceux trouvés par préentraienemtn des RBMs\n",
    "\t\tfor i in range(self.n_layers):\n",
    "\t\t\tself.forward_layers[i].weight.data = self.rbm_layers[i].W.data.t().clone()\n",
    "\t\t\tself.forward_layers[i].bias.data = self.rbm_layers[i].h_bias.data.t().clone()\n",
    "\t\t\n",
    "\t\t# Création du dataset et du dataloader pour l'entrainement\n",
    "\t\ttensor_x = train_data.type(torch.FloatTensor) \n",
    "\t\ttensor_y = train_labels.type(torch.LongTensor)\n",
    "\t\t_dataset = torch.utils.data.TensorDataset(tensor_x, tensor_y)\n",
    "\t\t_dataloader = torch.utils.data.DataLoader(_dataset, batch_size=batch_size)\n",
    "\t\n",
    "\t\t# Optimisateur (Adam) et fonction de cout (CrossEntropyLoss)\n",
    "\t\toptimizer = torch.optim.Adam(self.forward_layers.parameters(), lr = lr)\n",
    "\t\tcriterion = nn.CrossEntropyLoss()\n",
    "\t\n",
    "\t\ttrain_losses = []\n",
    "\t\tval_acc = []\n",
    "\t\tfor epoch in range(num_epochs):\n",
    "\t\t\tprint('-'*60)\n",
    "\t\t\tprint(\"Training epoch %d\" % epoch)\n",
    "\t\t\tlosses = []\n",
    "\t\t\t# Pour chaque époque\n",
    "\t\t\tfor batch_idx, (data_x, data_y) in enumerate(_dataloader):\n",
    "\t\t\t\toptimizer.zero_grad()\n",
    "\t\t\t\toutputs = self.forward_nn(data_x)\n",
    "\t\t\t\tloss = criterion(outputs, data_y)\n",
    "\t\t\t\tloss.backward()\n",
    "\t\t\t\toptimizer.step()\n",
    "\t\t\t\tlosses.append(loss.item())  \n",
    "\t\t\n",
    "\t\t\ttrain_losses.append(np.mean(losses))\n",
    "\t\t\t# Test sur l'ensemble de validation\n",
    "\t\t\ttotal = 0\n",
    "\t\t\tcorrect = 0\n",
    "\t\t\twith torch.no_grad():\n",
    "\t\t\t\toutputs = self.forward_nn(val_data)\n",
    "\t\t\t\t_, predicted = torch.max(outputs.data, 1)\n",
    "\t\t\t\ttotal = val_labels.size(0)\n",
    "\t\t\t\tcorrect = predicted.eq(val_labels.data).cpu().sum()\n",
    "\t\t\tval_acc.append(100.*correct/total)\n",
    "\t \n",
    "\t \t\t# Affichage des valeurs pour chaque époque\n",
    "\t\t\tprint(\"Epoch : {} | val acc : {:.3f} | train loss : {:.3f}\".format(epoch, val_acc[-1], train_losses[-1]))\n",
    "\t\t\t\n",
    "\t\tprint('-'*60)\n",
    "\t\t \n",
    "\t\treturn(train_losses, val_acc)\n",
    "\n",
    "\n",
    "\tdef train_ith(self, train_data, train_labels, num_epochs, batch_size, ith_layer):\n",
    "\t\t\"\"\"\n",
    "\t\tEntrainement de la ith couche\n",
    "\t\t:param train_data : données d'entrée pour l'entrainement\n",
    "\t\t:param train_labels : étiquettes des données\n",
    "\t\t:param num_epochs : nombre d'époques\n",
    "\t\t:param batch_size : taille des batchs\n",
    "\t\t:param ith_layer : numéro de la couche à entrainer\n",
    "\t\t\"\"\"\n",
    "\t\tif (ith_layer - 1 > len(self.rbm_layers) or ith_layer <= 0):\n",
    "\t\t\tprint(\"Layer index out of range\")\n",
    "\t\t\treturn\n",
    "\t\tith_layer = ith_layer - 1\n",
    "\t\tv = train_data.view((train_data.shape[0], -1)).type(torch.FloatTensor)\n",
    "\n",
    "\t\tfor ith in range(ith_layer):\n",
    "\t\t\tv,out_ = self.rbm_layers[ith].forward(v)\n",
    "\n",
    "\t\ttensor_x = v.type(torch.FloatTensor)  # transform to torch tensors\n",
    "\t\ttensor_y = train_labels.type(torch.FloatTensor)\n",
    "\t\t_dataset = torch.utils.data.TensorDataset(tensor_x, tensor_y)  # create your datset\n",
    "\t\t_dataloader = torch.utils.data.DataLoader(_dataset, batch_size=batch_size,\n",
    "\t\t\t\t\t\t\t\t\t\t\t\t\t  drop_last=True)  # create your dataloader\n",
    "\t\tself.rbm_layers[ith_layer].train(_dataloader, num_epochs, batch_size)\n",
    "\t\treturn\t\n",
    "\t\t\t"
   ]
  },
  {
   "cell_type": "markdown",
   "metadata": {
    "colab_type": "text",
    "id": "xGUj8pVnWSUQ"
   },
   "source": [
    "## **MLP**\n",
    "Réseau pleinement connecté"
   ]
  },
  {
   "cell_type": "code",
   "execution_count": 0,
   "metadata": {
    "colab": {},
    "colab_type": "code",
    "id": "L5sJi2NgWWlL"
   },
   "outputs": [],
   "source": [
    "class MLP(nn.Module):\n",
    "  \"\"\" Réseau pleinement connecté\"\"\"\n",
    "  def __init__(self,  ninputs, units):\n",
    "    \"\"\"\n",
    "    Initialisation\n",
    "    :param ninputs : taille de la couche d'entrée\n",
    "    :param units : Liste du nombre de neurones dans chaque couche\n",
    "    \"\"\"\n",
    "    super(MLP,self).__init__()\n",
    "    self.layers = nn.ModuleList()\n",
    "    for l in range(len(units)-1):\n",
    "      nin = units[l-1]\n",
    "      act_fct = nn.ReLU() # Fonction d'activation ReLU pour les couches cachées\n",
    "      if l == 0:\n",
    "        nin = ninputs\n",
    "\n",
    "      layer = nn.Sequential(nn.Linear(nin, units[l], bias=True), act_fct)\n",
    "      self.layers.append(layer)\n",
    "    # Couche de sortie\n",
    "    self.layers.append(nn.Linear(units[-2], units[-1]))\n",
    "  \n",
    "  def forward(self, x):\n",
    "    \"\"\"\n",
    "    Évaluation des sorties à partir de l'entrée\n",
    "    :param x : valeurs des entrées\n",
    "    :return : sorties du réseau\n",
    "    \"\"\"\n",
    "    for i in range(len(self.layers)):\n",
    "      x = self.layers[i](x)\n",
    "    return(x)\n",
    "\n"
   ]
  },
  {
   "cell_type": "code",
   "execution_count": 0,
   "metadata": {
    "colab": {},
    "colab_type": "code",
    "id": "xazpcuo-f8KV"
   },
   "outputs": [],
   "source": [
    "def train_model(net, train_data, train_labels, val_data, val_labels, n_epochs=10, batch_size=20, lr=0.001, wd=0):\n",
    "  \"\"\"\n",
    "  Entrainement d'un modèle (réseau disposant d'une méthode forward() et avec des paramètres entrainables)\n",
    "  :param train_data : données d'entrée d'entrainement\n",
    "  :param train_labels : étiquettes des données d'entrainement\n",
    "  :param val_data : données de validation\n",
    "  :param val_labels : étiquettes des données de validation\n",
    "  :param n_epochs : nombre d'époques pour l'entrainement\n",
    "  :param batch_size : taille des batchs pour l'entrainement\n",
    "  :param lr : taux d'apprentissage (learning rate)\n",
    "  :param wd : valeur du paramètre de régularisation\n",
    "  :return \n",
    "    train_losses : vecteur des couts sur l'ensemble d'entrainement\n",
    "    train_acc : vecteur des précisions sur l'ensemble d'entrainement\n",
    "    val_losses : vecteur des couts sur l'ensemble de validation\n",
    "    val_acc : vecteur des précisions sur l'ensemble de validation\n",
    "  \"\"\"\n",
    "  tensor_x = train_data.type(torch.FloatTensor)  # transform to torch tensors\n",
    "  tensor_y = train_labels.type(torch.LongTensor)\n",
    "  _dataset = torch.utils.data.TensorDataset(tensor_x, tensor_y)  # create your datset\n",
    "  _dataloader = torch.utils.data.DataLoader(_dataset, batch_size=batch_size)\n",
    "\n",
    "  train_losses = []\n",
    "  val_losses = []\n",
    "  val_acc = []\n",
    "  train_acc = []\n",
    "  criterion = nn.CrossEntropyLoss()\n",
    "  optimizer = torch.optim.Adam(net.parameters(), lr = lr, weight_decay=wd)\n",
    "  net.train()\n",
    "  for epoch in range(n_epochs):\n",
    "    epoch_losses = []\n",
    "    total = 0.\n",
    "    correct = 0.\n",
    "    for batch_idx, (data_x, data_y) in enumerate(_dataloader):\n",
    "      # Pour chaque batch\n",
    "      optimizer.zero_grad()\n",
    "      outputs = net.forward(data_x)\n",
    "      loss = criterion(outputs.squeeze(), data_y)\n",
    "      epoch_losses.append(loss.item())\n",
    "      loss.backward()\n",
    "      optimizer.step()\n",
    "      _, predicted = torch.max(outputs, 1) \n",
    "      correct += predicted.eq(data_y.data).cpu().sum()\n",
    "      total += data_y.size(0)\n",
    "    \n",
    "    train_losses.append(np.mean(epoch_losses))\n",
    "    train_acc.append(100.*correct/total)\n",
    "\n",
    "    # Évaluation sur l'ensemble de validation\n",
    "    total = 0.\n",
    "    correct = 0.\n",
    "    with torch.no_grad():\n",
    "      out = net.forward(val_data)\n",
    "      _, predicted = torch.max(out.data, 1)\n",
    "      total += val_labels.size(0)\n",
    "      correct += predicted.eq(val_labels.data).cpu().sum()\n",
    "      loss = criterion(out.squeeze(), val_labels.type(torch.LongTensor))\n",
    "      val_losses.append(loss.item())\n",
    "    val_acc.append(100.*correct/total)\n",
    "    print('Epoch: ', epoch+1, 'train loss: %.4f'%train_losses[-1],'train acc: %.2f'%(train_acc[-1]),\n",
    "          'val loss: %.4f'%val_losses[-1], 'val acc: %.2f'%(val_acc[-1]))\n",
    "  return(train_losses, train_acc, val_losses, val_acc)"
   ]
  },
  {
   "cell_type": "markdown",
   "metadata": {
    "colab_type": "text",
    "id": "u-UC0RNq5VDz"
   },
   "source": [
    "# **Main**"
   ]
  },
  {
   "cell_type": "markdown",
   "metadata": {
    "colab_type": "text",
    "id": "2WdzOJR7jDOX"
   },
   "source": [
    "## Chargement des données"
   ]
  },
  {
   "cell_type": "code",
   "execution_count": 0,
   "metadata": {
    "colab": {
     "base_uri": "https://localhost:8080/",
     "height": 34
    },
    "colab_type": "code",
    "id": "HkPIYXJDt3nv",
    "outputId": "7e313c15-e98b-41e6-e287-caa57c50006c"
   },
   "outputs": [
    {
     "name": "stdout",
     "output_type": "stream",
     "text": [
      "Loading data from drive\n"
     ]
    }
   ],
   "source": [
    "filehandler = open(\"/content/drive/My Drive/DATA_1024.data\", 'rb')\n",
    "print(\"Loading data from drive\")\n",
    "labels = pickle.load(filehandler)\n",
    "data = pickle.load(filehandler)\n",
    "filehandler.close()"
   ]
  },
  {
   "cell_type": "code",
   "execution_count": 0,
   "metadata": {
    "colab": {},
    "colab_type": "code",
    "id": "D_5l7hhd7001"
   },
   "outputs": [],
   "source": [
    "GENRES = 'blues classical country disco hiphop jazz metal pop reggae rock'.split()\n",
    "N_SEG_BY_SONG = data.shape[2]\n",
    "N_FEATURES = data.shape[3]\n",
    "N_SAMPLES_BY_BLOC = 1024"
   ]
  },
  {
   "cell_type": "code",
   "execution_count": 0,
   "metadata": {
    "colab": {
     "base_uri": "https://localhost:8080/",
     "height": 72
    },
    "colab_type": "code",
    "id": "7bXOwxL8eHTd",
    "outputId": "605df982-eb7e-4748-f7dc-a971099ec8be"
   },
   "outputs": [
    {
     "name": "stdout",
     "output_type": "stream",
     "text": [
      "Spliting the data\n"
     ]
    },
    {
     "data": {
      "text/plain": [
       "\"\\nBilan:\\ndata_train : numpy ndarray (10x80x645x513) données pour l'entrainement (sera utilisé pour l'entrainement du SVM)\\ndata_test  : numpy ndarray (10x20x645x513) données pour les tests (test des modèles)\\ny_train    : Tensor : étiquettes des données d'entrainement (associées à X_train)\\ny_test     : Tensor : étiquettes des données de test\\ny_val      : Tensor : étiquettes des données de validation (associées à X_val)\\nX_train    : Tensor : données pour l'entrainement des réseaux\\nX_val      : Tensor : données pour la validation lors de l'entrainement des réseaux\\n\""
      ]
     },
     "execution_count": 8,
     "metadata": {
      "tags": []
     },
     "output_type": "execute_result"
    }
   ],
   "source": [
    "# Taitement des données\n",
    "\n",
    "# Division en ensembles de données et création des tenseurs\n",
    "# Réserver une partie des données pour l'ensemble de test. Division pour avoir autant de données de chaque style\n",
    "print(\"Spliting the data\")\n",
    "\n",
    "# Données pour le réseau pleinement connecté\n",
    "data_X_train, data_X_test, data_y_train, data_y_test = train_test_split(data.reshape((-1,513)), labels, test_size = 0.5, random_state = 0, shuffle = True)\n",
    "data_X_test, data_X_val, data_y_test, data_y_val = train_test_split(data_X_test, data_y_test, test_size = 0.4, random_state = 0, shuffle = True)\n",
    "data_X_train, data_X_test, data_X_val = torch.from_numpy(data_X_train), torch.from_numpy(data_X_test), torch.from_numpy(data_X_val)\n",
    "data_y_train, data_y_test, data_y_val = torch.from_numpy(data_y_train).squeeze(), torch.from_numpy(data_y_test).squeeze(), torch.from_numpy(data_y_val).squeeze()\n",
    "\n",
    "# Séparation des données de la base GTZAN en 2 (pour le DBN)\n",
    "data_train = data[:,0:80,:,:] # 80% des données pour l'entrainement\n",
    "data_test = data[:,80:100,:,:] # 20% des données pour les tests\n",
    "\n",
    "starts = np.arange(0,len(labels),N_SEG_BY_SONG*100, dtype=np.uint)\n",
    "y_train = []\n",
    "y_test = []\n",
    "for i in range(len(starts)):\n",
    "  for j in range(80*N_SEG_BY_SONG):\n",
    "    y_train.append(labels[int(starts[i]+j),:])\n",
    "  for j in range(80*N_SEG_BY_SONG, 100*N_SEG_BY_SONG):\n",
    "    y_test.append(labels[int(starts[i]+j),:])\n",
    "\n",
    "y_train, y_test = np.array(y_train), np.array(y_test)\n",
    "\n",
    "# Division et reformatage pour l'entrainement des réseaux \n",
    "# Conserver 10% des données réservées à l'entrainement pour la validation\n",
    "data_DBN = data_train.reshape((-1,N_FEATURES))\n",
    "X_train, X_val, y_train, y_val = train_test_split(data_DBN, y_train, test_size = 0.1, random_state = 0, shuffle = True)\n",
    "# Conversions en tenseurs\n",
    "X_train, X_val = torch.from_numpy(X_train), torch.from_numpy(X_val)\n",
    "y_train, y_test, y_val = torch.from_numpy(y_train), torch.from_numpy(y_test), torch.from_numpy(y_val)\n",
    "y_train, y_test, y_val = y_train.squeeze(), y_test.squeeze(), y_val.squeeze()\n",
    "\n",
    "\"\"\"\n",
    "Bilan:\n",
    "data_X_train, data_X_val, data_X_test : Tensor : données pour l'entrainement, la validation et le test du réseau pleinement connecté\n",
    "data_y_train, data_y_val, data_y_test : Tensor : étiquettes pour l'entrainement, la validation et le test du réseau pleinement connecté\n",
    "data_train : numpy ndarray (10x80x645x513) données pour l'entrainement (sera utilisé pour l'entrainement du SVM)\n",
    "data_test  : numpy ndarray (10x20x645x513) données pour les tests (test des modèles)\n",
    "y_train    : Tensor : étiquettes des données d'entrainement (associées à X_train)\n",
    "y_test     : Tensor : étiquettes des données de test\n",
    "y_val      : Tensor : étiquettes des données de validation (associées à X_val)\n",
    "X_train    : Tensor : données pour l'entrainement des réseaux\n",
    "X_val      : Tensor : données pour la validation lors de l'entrainement des réseaux\n",
    "\"\"\""
   ]
  },
  {
   "cell_type": "markdown",
   "metadata": {
    "colab_type": "text",
    "id": "I2qRDG81jJwQ"
   },
   "source": [
    "## DBN"
   ]
  },
  {
   "cell_type": "markdown",
   "metadata": {
    "colab_type": "text",
    "id": "hht0yyRDjNU7"
   },
   "source": [
    "### Création et entrainement du réseau"
   ]
  },
  {
   "cell_type": "code",
   "execution_count": 0,
   "metadata": {
    "colab": {
     "base_uri": "https://localhost:8080/",
     "height": 52
    },
    "colab_type": "code",
    "id": "DL7h1KwL14wY",
    "outputId": "ec7700b9-5d0f-4cfc-f20c-70ae011d6bb7"
   },
   "outputs": [
    {
     "name": "stdout",
     "output_type": "stream",
     "text": [
      "Creating DBN network\n",
      "DBN network created\n"
     ]
    }
   ],
   "source": [
    "# Création du DBN\n",
    "print(\"Creating DBN network\")\n",
    "dbn_net = DBN(visible_units=N_FEATURES, hidden_units=[50,50,50], n_outputs=10, \n",
    "              learning_rate=0.01, momentum_coefficient=0.9, use_gpu=False)\n",
    "print(\"DBN network created\")\n"
   ]
  },
  {
   "cell_type": "code",
   "execution_count": 0,
   "metadata": {
    "colab": {
     "base_uri": "https://localhost:8080/",
     "height": 650
    },
    "colab_type": "code",
    "id": "QAa0w3BB1cY-",
    "outputId": "fa8baab8-a5e3-49f3-f7ce-36e7df9e13b7"
   },
   "outputs": [
    {
     "name": "stdout",
     "output_type": "stream",
     "text": [
      "--------------------\n",
      "Training the 1 st rbm layer\n",
      "RBM fitting: 928it [00:14, 62.82it/s]\n",
      "Epoch:0 ,avg_cost = 12015.9921875 ,std_cost = 779.0997924804688 \n",
      "RBM fitting: 928it [00:14, 63.30it/s]\n",
      "Epoch:1 ,avg_cost = 12015.0029296875 ,std_cost = 777.9967651367188 \n",
      "RBM fitting: 928it [00:14, 63.30it/s]\n",
      "Epoch:2 ,avg_cost = 12015.0029296875 ,std_cost = 777.9967651367188 \n",
      "RBM fitting: 928it [00:14, 63.46it/s]\n",
      "Epoch:3 ,avg_cost = 12015.0029296875 ,std_cost = 777.9967651367188 \n",
      "RBM fitting: 928it [00:14, 64.02it/s]\n",
      "Epoch:4 ,avg_cost = 12015.0029296875 ,std_cost = 777.9967651367188 \n",
      "--------------------\n",
      "Training the 2 st rbm layer\n",
      "RBM fitting: 928it [00:05, 163.88it/s]\n",
      "Epoch:0 ,avg_cost = 0.05790909379720688 ,std_cost = 0.7237377166748047 \n",
      "RBM fitting: 928it [00:05, 163.57it/s]\n",
      "Epoch:1 ,avg_cost = 0.003969687968492508 ,std_cost = 0.014272897504270077 \n",
      "RBM fitting: 928it [00:05, 163.17it/s]\n",
      "Epoch:2 ,avg_cost = 0.0039695813320577145 ,std_cost = 0.014273557811975479 \n",
      "RBM fitting: 928it [00:05, 161.33it/s]\n",
      "Epoch:3 ,avg_cost = 0.003969530574977398 ,std_cost = 0.014273865148425102 \n",
      "RBM fitting: 928it [00:05, 165.22it/s]\n",
      "Epoch:4 ,avg_cost = 0.0039695315062999725 ,std_cost = 0.014273911714553833 \n",
      "--------------------\n",
      "Training the 3 st rbm layer\n",
      "RBM fitting: 928it [00:05, 164.49it/s]\n",
      "Epoch:0 ,avg_cost = 0.2340051680803299 ,std_cost = 0.7218016982078552 \n",
      "RBM fitting: 928it [00:05, 164.56it/s]\n",
      "Epoch:1 ,avg_cost = 0.18114864826202393 ,std_cost = 0.018741004168987274 \n",
      "RBM fitting: 928it [00:05, 134.38it/s]\n",
      "Epoch:2 ,avg_cost = 0.184883713722229 ,std_cost = 0.01868973672389984 \n",
      "RBM fitting: 928it [00:05, 164.94it/s]\n",
      "Epoch:3 ,avg_cost = 0.18057651817798615 ,std_cost = 0.018313150852918625 \n",
      "RBM fitting: 928it [00:05, 169.59it/s]\n",
      "Epoch:4 ,avg_cost = 0.16995595395565033 ,std_cost = 0.017544284462928772 \n"
     ]
    }
   ],
   "source": [
    "# Entrainement du DBN\n",
    "# Entrainement non-supervisé\n",
    "dbn_net.train_static(X_train, y_train, num_epochs=5, batch_size=500)"
   ]
  },
  {
   "cell_type": "code",
   "execution_count": 0,
   "metadata": {
    "colab": {
     "base_uri": "https://localhost:8080/",
     "height": 929
    },
    "colab_type": "code",
    "id": "dnSg94fbYMj7",
    "outputId": "fcc03e6c-ea1c-49b9-eadc-c61be3f2a693"
   },
   "outputs": [
    {
     "name": "stdout",
     "output_type": "stream",
     "text": [
      "------------------------------------------------------------\n",
      "Training epoch 0\n",
      "Epoch : 0 | val acc : 9.766 | train loss : 2.309\n",
      "------------------------------------------------------------\n",
      "Training epoch 1\n",
      "Epoch : 1 | val acc : 9.766 | train loss : 2.303\n",
      "------------------------------------------------------------\n",
      "Training epoch 2\n",
      "Epoch : 2 | val acc : 9.766 | train loss : 2.303\n",
      "------------------------------------------------------------\n",
      "Training epoch 3\n",
      "Epoch : 3 | val acc : 9.766 | train loss : 2.303\n",
      "------------------------------------------------------------\n",
      "Training epoch 4\n",
      "Epoch : 4 | val acc : 9.766 | train loss : 2.303\n",
      "------------------------------------------------------------\n",
      "Training epoch 5\n",
      "Epoch : 5 | val acc : 9.766 | train loss : 2.303\n",
      "------------------------------------------------------------\n",
      "Training epoch 6\n",
      "Epoch : 6 | val acc : 9.766 | train loss : 2.303\n",
      "------------------------------------------------------------\n",
      "Training epoch 7\n",
      "Epoch : 7 | val acc : 9.766 | train loss : 2.303\n",
      "------------------------------------------------------------\n",
      "Training epoch 8\n",
      "Epoch : 8 | val acc : 9.766 | train loss : 2.303\n",
      "------------------------------------------------------------\n",
      "Training epoch 9\n",
      "Epoch : 9 | val acc : 9.766 | train loss : 2.303\n",
      "------------------------------------------------------------\n",
      "Training epoch 10\n",
      "Epoch : 10 | val acc : 9.766 | train loss : 2.303\n",
      "------------------------------------------------------------\n",
      "Training epoch 11\n"
     ]
    },
    {
     "ename": "KeyboardInterrupt",
     "evalue": "ignored",
     "output_type": "error",
     "traceback": [
      "\u001b[0;31m---------------------------------------------------------------------------\u001b[0m",
      "\u001b[0;31mKeyboardInterrupt\u001b[0m                         Traceback (most recent call last)",
      "\u001b[0;32m<ipython-input-65-84bd1d8d34b0>\u001b[0m in \u001b[0;36m<module>\u001b[0;34m()\u001b[0m\n\u001b[0;32m----> 1\u001b[0;31m \u001b[0;34m(\u001b[0m\u001b[0mtrain_losses\u001b[0m\u001b[0;34m,\u001b[0m \u001b[0mval_acc\u001b[0m\u001b[0;34m)\u001b[0m \u001b[0;34m=\u001b[0m \u001b[0mdbn_net\u001b[0m\u001b[0;34m.\u001b[0m\u001b[0mtrain_supervised\u001b[0m\u001b[0;34m(\u001b[0m\u001b[0mX_train\u001b[0m\u001b[0;34m,\u001b[0m \u001b[0my_train\u001b[0m\u001b[0;34m,\u001b[0m \u001b[0mX_val\u001b[0m\u001b[0;34m,\u001b[0m \u001b[0my_val\u001b[0m\u001b[0;34m,\u001b[0m \u001b[0;36m20\u001b[0m\u001b[0;34m,\u001b[0m \u001b[0;36m0.0001\u001b[0m\u001b[0;34m,\u001b[0m \u001b[0;36m200\u001b[0m\u001b[0;34m)\u001b[0m\u001b[0;34m\u001b[0m\u001b[0;34m\u001b[0m\u001b[0m\n\u001b[0m",
      "\u001b[0;32m<ipython-input-62-d920e4b2c598>\u001b[0m in \u001b[0;36mtrain_supervised\u001b[0;34m(self, train_data, train_labels, val_data, val_labels, num_epochs, lr, batch_size)\u001b[0m\n\u001b[1;32m    177\u001b[0m                                 \u001b[0mloss\u001b[0m \u001b[0;34m=\u001b[0m \u001b[0mcriterion\u001b[0m\u001b[0;34m(\u001b[0m\u001b[0moutputs\u001b[0m\u001b[0;34m,\u001b[0m \u001b[0mdata_y\u001b[0m\u001b[0;34m)\u001b[0m\u001b[0;34m\u001b[0m\u001b[0;34m\u001b[0m\u001b[0m\n\u001b[1;32m    178\u001b[0m                                 \u001b[0mloss\u001b[0m\u001b[0;34m.\u001b[0m\u001b[0mbackward\u001b[0m\u001b[0;34m(\u001b[0m\u001b[0;34m)\u001b[0m\u001b[0;34m\u001b[0m\u001b[0;34m\u001b[0m\u001b[0m\n\u001b[0;32m--> 179\u001b[0;31m                                 \u001b[0moptimizer\u001b[0m\u001b[0;34m.\u001b[0m\u001b[0mstep\u001b[0m\u001b[0;34m(\u001b[0m\u001b[0;34m)\u001b[0m\u001b[0;34m\u001b[0m\u001b[0;34m\u001b[0m\u001b[0m\n\u001b[0m\u001b[1;32m    180\u001b[0m                                 \u001b[0mlosses\u001b[0m\u001b[0;34m.\u001b[0m\u001b[0mappend\u001b[0m\u001b[0;34m(\u001b[0m\u001b[0mloss\u001b[0m\u001b[0;34m.\u001b[0m\u001b[0mitem\u001b[0m\u001b[0;34m(\u001b[0m\u001b[0;34m)\u001b[0m\u001b[0;34m)\u001b[0m\u001b[0;34m\u001b[0m\u001b[0;34m\u001b[0m\u001b[0m\n\u001b[1;32m    181\u001b[0m \u001b[0;34m\u001b[0m\u001b[0m\n",
      "\u001b[0;32m/usr/local/lib/python3.6/dist-packages/torch/optim/adam.py\u001b[0m in \u001b[0;36mstep\u001b[0;34m(self, closure)\u001b[0m\n\u001b[1;32m    101\u001b[0m                     \u001b[0mdenom\u001b[0m \u001b[0;34m=\u001b[0m \u001b[0;34m(\u001b[0m\u001b[0mmax_exp_avg_sq\u001b[0m\u001b[0;34m.\u001b[0m\u001b[0msqrt\u001b[0m\u001b[0;34m(\u001b[0m\u001b[0;34m)\u001b[0m \u001b[0;34m/\u001b[0m \u001b[0mmath\u001b[0m\u001b[0;34m.\u001b[0m\u001b[0msqrt\u001b[0m\u001b[0;34m(\u001b[0m\u001b[0mbias_correction2\u001b[0m\u001b[0;34m)\u001b[0m\u001b[0;34m)\u001b[0m\u001b[0;34m.\u001b[0m\u001b[0madd_\u001b[0m\u001b[0;34m(\u001b[0m\u001b[0mgroup\u001b[0m\u001b[0;34m[\u001b[0m\u001b[0;34m'eps'\u001b[0m\u001b[0;34m]\u001b[0m\u001b[0;34m)\u001b[0m\u001b[0;34m\u001b[0m\u001b[0;34m\u001b[0m\u001b[0m\n\u001b[1;32m    102\u001b[0m                 \u001b[0;32melse\u001b[0m\u001b[0;34m:\u001b[0m\u001b[0;34m\u001b[0m\u001b[0;34m\u001b[0m\u001b[0m\n\u001b[0;32m--> 103\u001b[0;31m                     \u001b[0mdenom\u001b[0m \u001b[0;34m=\u001b[0m \u001b[0;34m(\u001b[0m\u001b[0mexp_avg_sq\u001b[0m\u001b[0;34m.\u001b[0m\u001b[0msqrt\u001b[0m\u001b[0;34m(\u001b[0m\u001b[0;34m)\u001b[0m \u001b[0;34m/\u001b[0m \u001b[0mmath\u001b[0m\u001b[0;34m.\u001b[0m\u001b[0msqrt\u001b[0m\u001b[0;34m(\u001b[0m\u001b[0mbias_correction2\u001b[0m\u001b[0;34m)\u001b[0m\u001b[0;34m)\u001b[0m\u001b[0;34m.\u001b[0m\u001b[0madd_\u001b[0m\u001b[0;34m(\u001b[0m\u001b[0mgroup\u001b[0m\u001b[0;34m[\u001b[0m\u001b[0;34m'eps'\u001b[0m\u001b[0;34m]\u001b[0m\u001b[0;34m)\u001b[0m\u001b[0;34m\u001b[0m\u001b[0;34m\u001b[0m\u001b[0m\n\u001b[0m\u001b[1;32m    104\u001b[0m \u001b[0;34m\u001b[0m\u001b[0m\n\u001b[1;32m    105\u001b[0m                 \u001b[0mstep_size\u001b[0m \u001b[0;34m=\u001b[0m \u001b[0mgroup\u001b[0m\u001b[0;34m[\u001b[0m\u001b[0;34m'lr'\u001b[0m\u001b[0;34m]\u001b[0m \u001b[0;34m/\u001b[0m \u001b[0mbias_correction1\u001b[0m\u001b[0;34m\u001b[0m\u001b[0;34m\u001b[0m\u001b[0m\n",
      "\u001b[0;31mKeyboardInterrupt\u001b[0m: "
     ]
    }
   ],
   "source": [
    "# Entrainement supervisé\n",
    "(train_losses, val_acc) = dbn_net.train_supervised(X_train, y_train, X_val, y_val, 20, 0.0001, 200)\n",
    "# On remarque que la précision reste à 10% et ne s'améliore pas --> Problème du réseau ou d'implémentation"
   ]
  },
  {
   "cell_type": "markdown",
   "metadata": {
    "colab_type": "text",
    "id": "q7fYiMP0jTg7"
   },
   "source": [
    "### SVM"
   ]
  },
  {
   "cell_type": "code",
   "execution_count": 0,
   "metadata": {
    "colab": {},
    "colab_type": "code",
    "id": "GaRHsvk9HXuN"
   },
   "outputs": [],
   "source": [
    "def train_svm_dbn(dbn, layer, data_train, y_train, s_aggregate, s_overlap):\n",
    "  \"\"\"\n",
    "  Entrainement d'un modèle SVM à partir de l'aggrégation des activations du réseau DBN \n",
    "  :param dbn : réseau DBN\n",
    "  :param layer : numéro de la couche du réseau DBN dont les activations seront utilisées\n",
    "  :param data_train : données d'entrainement (numpy ndarray)\n",
    "  :param y_train : étiquettes des données\n",
    "  :param s_aggregate : durée des segments qui doivent être agrégés (en secondes)\n",
    "  :param s_overlap : durée du pas pour l'agrégation (en secondes)\n",
    "  :return modèle SVM entrainé \n",
    "  \"\"\"\n",
    "\n",
    "  # Calcul des paramètres pour l'agrégation\n",
    "  s_step = s_aggregate - s_overlap\n",
    "  f_sampling = 22050 #22.05 kHz\n",
    "  n_samples = np.uint(f_sampling * s_aggregate)\n",
    "  n_blocs = np.uint(np.ceil(n_samples/N_SAMPLES_BY_BLOC))\n",
    "  n_step = np.uint(np.ceil(f_sampling*s_step / N_SAMPLES_BY_BLOC))\n",
    "  n_step = max(1, n_step)\n",
    "  n_blocs_per_song = data_train.shape[2]\n",
    "  nbs = np.ceil((n_blocs_per_song-n_blocs)/n_step + 1)\n",
    "  stop = int(n_blocs_per_song-n_blocs+n_step)\n",
    "\n",
    "  n_train_songs = data_train.shape[0]*data_train.shape[1]\n",
    "  n_train_aggregated = int(n_train_songs * nbs)\n",
    "  data_svm_train = np.zeros((n_train_aggregated, int(dbn.rbm_layers[layer-1].hidden_units)))\n",
    "  labels_svm_train = np.zeros((data_svm_train.shape[0],1))\n",
    "  # Pour chaque segment de s_aggregate de chaque chanson de chaque genre, calculer les activations pour créer les données d'entrainement du SVM\n",
    "  for g in range(data_train.shape[0]):\n",
    "    for song in range(data_train.shape[1]):\n",
    "      for i,s in enumerate(range(0, stop, n_step)):\n",
    "        data_in = data_train[g,song,s:int(min(s+n_blocs,n_blocs_per_song)),:]\n",
    "        data_in = torch.from_numpy(data_in)\n",
    "        out = dbn.get_activation(data_in, layer)[1]\n",
    "        out = torch.mean(out, dim=0) # Moyenne des activations \n",
    "        data_svm_train[int(i+nbs*song+(nbs*data_train.shape[1])*g),:] = out.detach().numpy()\n",
    "        labels_svm_train[int(i+nbs*song+(nbs*data_train.shape[1])*g),:] = y_train[int(s+n_blocs_per_song*song+(data_train.shape[1]*n_blocs_per_song*g))]\n",
    "\n",
    "  # Création du modèle SVM pour la classification avec un noyau radial\n",
    "  svm_model = skl.svm.SVC(kernel='rbf', gamma='auto')\n",
    "  # Entrainement du modèle\n",
    "  svm_model.fit(data_svm_train, labels_svm_train.squeeze())\n",
    "\n",
    "  return(svm_model)\n"
   ]
  },
  {
   "cell_type": "code",
   "execution_count": 0,
   "metadata": {
    "colab": {},
    "colab_type": "code",
    "id": "JqjOUfQMk6rj"
   },
   "outputs": [],
   "source": [
    "def predict_svm_dbn(dbn, svm, layer, data):\n",
    "  \"\"\"\n",
    "  Retourne les prédictions de genre en utilisant le modèle SVM\n",
    "  :param dbn : réseau DBN pour obtenir les activations\n",
    "  :param svm : modèle SVM entrainé\n",
    "  :param layer : numéro de la couche d'où obtenir les activations du réseau DBN\n",
    "  :parma data : données d'entrée\n",
    "  :return : prédiction du genre musical avec le SVM\n",
    "  \"\"\"\n",
    "  out = dbn.get_activation(data,layer)[1]\n",
    "  out = torch.mean(out, dim = 0)\n",
    "  out = out.detach().numpy().reshape(1,-1)\n",
    "  return(svm.predict(out))"
   ]
  },
  {
   "cell_type": "code",
   "execution_count": 0,
   "metadata": {
    "colab": {},
    "colab_type": "code",
    "id": "sk9wOj9ckahv"
   },
   "outputs": [],
   "source": [
    "def test_pred_svm_dbn(dbn, svm, layer, data_test, y_test, s_agg, s_over):\n",
    "  \"\"\"\n",
    "  Test le modèle SVM avec réseau DBN sur les données de test\n",
    "  :param dbn : réseau DBN\n",
    "  :param svm : modèle SVM\n",
    "  :param layer : numéro de la couche d'où obtenir les activations du réseau DBN\n",
    "  :param data_test : données d'entrée de test\n",
    "  :param y_test : étiquettes des données de test\n",
    "  :param s_agg : durée des segments qui doivent être agrégés (en secondes)\n",
    "  :param s_over : durée du pas pour l'agrégation (en secondes)\n",
    "  :return \n",
    "    nb_pred : matrice de confusion des prédictions segment par segment\n",
    "    nb_pred_song : matrice de confusion des prédictions des chansons\n",
    "  \"\"\"\n",
    "\n",
    "  nb_pred = np.zeros((10,10)) #Matrice qui enregistre les prédictions (lignes = truth, colonnes = pred)\n",
    "  nb_pred_song = np.zeros((10,10))\n",
    "\n",
    "  if s_agg > 0 : # Si on fait de l'aggrégation \n",
    "    s_step = s_agg - s_over\n",
    "    f_sampling = 22050 #22.05 kHz\n",
    "    n_samples = np.uint(f_sampling * s_agg)\n",
    "    n_blocs = np.uint(np.ceil(n_samples/N_SAMPLES_BY_BLOC))\n",
    "    n_step = np.uint(np.ceil(f_sampling*s_step / N_SAMPLES_BY_BLOC))\n",
    "    n_step = max(1, n_step)\n",
    "    n_blocs_per_song = data_test.shape[2]\n",
    "    nbs = np.ceil((n_blocs_per_song-n_blocs)/n_step + 1)\n",
    "    stop = int(n_blocs_per_song-n_blocs+n_step)\n",
    "  else :\n",
    "    n_blocs = 1\n",
    "    n_step = 1\n",
    "    n_blocs_per_song = data_test.shape[2]\n",
    "    nbs = np.ceil((n_blocs_per_song-n_blocs)/n_step + 1)\n",
    "    stop = int(n_blocs_per_song)\n",
    "  \n",
    "  # Test pour chaque bloc de chaque chanson de chaque genre\n",
    "  for g in range(data_test.shape[0]):\n",
    "    for song in range(data_test.shape[1]):\n",
    "      predictions = []\n",
    "      for i,s in enumerate(range(0, stop, n_step)):\n",
    "        data_in = data_test[g,song,s:int(min(s+n_blocs, n_blocs_per_song)),:]\n",
    "        data_in = torch.from_numpy(data_in)\n",
    "        # Prédiction avec le modèle SVM\n",
    "        out = predict_svm_dbn(dbn, svm, layer, data_in)\n",
    "        nb_pred[g,int(out)] += 1\n",
    "        predictions.append(int(out))\n",
    "      val,counts = np.unique(predictions, return_counts=True)\n",
    "      pred = val[np.argmax(counts)]\n",
    "      # prédiction du style de la chanson (prédiction la plus fréquente parmi les segments de la chanson)\n",
    "      nb_pred_song[g,pred] += 1\n",
    "      \n",
    "  return(nb_pred, nb_pred_song)"
   ]
  },
  {
   "cell_type": "code",
   "execution_count": 0,
   "metadata": {
    "colab": {},
    "colab_type": "code",
    "id": "iwDBWYGCWyQm"
   },
   "outputs": [],
   "source": [
    "def show_results(mat_pred):\n",
    "  \"\"\"\n",
    "  Affiche les résultats à partir de la matrice de prédictions\n",
    "  :param mat_pred : matrice de prédiction des genres (10 x 10)\n",
    "    Lignes: genres (somme des lignes = nombre de chansons dans chaque genre)\n",
    "    Colonnes : prédictions \n",
    "  :return : vecteur accuracy pour chaque genre\n",
    "  \"\"\"\n",
    "  total = np.sum(mat_pred, axis = 1)\n",
    "  correct = np.array([mat_pred[i,i] for i in range(10)])\n",
    "  acc_total = 100. * (sum(correct) / sum(total))\n",
    "  print(\"Global accuracy : {:.2f}%\".format(acc_total))\n",
    "  acc = 100. * (correct / total)\n",
    "  for i in range(10):\n",
    "    print(\"Genre {} |\".format(i),GENRES[i], \"| {:.2f}%\".format(acc[i]))\n",
    "  \n",
    "  plt.figure()\n",
    "  plt.imshow(mat_pred, cmap='hot')\n",
    "  plt.title('Répartition des prédictions')\n",
    "  plt.ylabel('Classes réelles')\n",
    "  plt.xlabel('Classes prédites')\n",
    "  plt.show()\n",
    "\n",
    "  return(acc)"
   ]
  },
  {
   "cell_type": "code",
   "execution_count": 0,
   "metadata": {
    "colab": {
     "base_uri": "https://localhost:8080/",
     "height": 1000
    },
    "colab_type": "code",
    "id": "HPDninTqQtx1",
    "outputId": "5a49b9e6-b066-4cc9-8230-e40cfc34f653"
   },
   "outputs": [
    {
     "name": "stdout",
     "output_type": "stream",
     "text": [
      "================================================================================\n",
      "Entrainement et test de prédiction avec SVM (activations de la couche 1 du DBN)\n",
      "-------------------- Segment par segment --------------------\n",
      "Global accuracy : 10.00%\n",
      "Genre 0 : 0.00%\n",
      "Genre 1 : 0.00%\n",
      "Genre 2 : 100.00%\n",
      "Genre 3 : 0.00%\n",
      "Genre 4 : 0.00%\n",
      "Genre 5 : 0.00%\n",
      "Genre 6 : 0.00%\n",
      "Genre 7 : 0.00%\n",
      "Genre 8 : 0.00%\n",
      "Genre 9 : 0.00%\n"
     ]
    },
    {
     "data": {
      "image/png": "[encoded data removed]",
      "text/plain": [
       "<Figure size 432x288 with 1 Axes>"
      ]
     },
     "metadata": {
      "tags": []
     },
     "output_type": "display_data"
    },
    {
     "name": "stdout",
     "output_type": "stream",
     "text": [
      "-------------------- Prédictions par chanson --------------------\n",
      "Global accuracy : 10.00%\n",
      "Genre 0 : 0.00%\n",
      "Genre 1 : 0.00%\n",
      "Genre 2 : 100.00%\n",
      "Genre 3 : 0.00%\n",
      "Genre 4 : 0.00%\n",
      "Genre 5 : 0.00%\n",
      "Genre 6 : 0.00%\n",
      "Genre 7 : 0.00%\n",
      "Genre 8 : 0.00%\n",
      "Genre 9 : 0.00%\n"
     ]
    },
    {
     "data": {
      "image/png": "[encoded data removed]",
      "text/plain": [
       "<Figure size 432x288 with 1 Axes>"
      ]
     },
     "metadata": {
      "tags": []
     },
     "output_type": "display_data"
    },
    {
     "name": "stdout",
     "output_type": "stream",
     "text": [
      "================================================================================\n",
      "Entrainement et test de prédiction avec SVM (activations de la couche 2 du DBN)\n",
      "-------------------- Segment par segment --------------------\n",
      "Global accuracy : 10.00%\n",
      "Genre 0 : 0.00%\n",
      "Genre 1 : 0.00%\n",
      "Genre 2 : 100.00%\n",
      "Genre 3 : 0.00%\n",
      "Genre 4 : 0.00%\n",
      "Genre 5 : 0.00%\n",
      "Genre 6 : 0.00%\n",
      "Genre 7 : 0.00%\n",
      "Genre 8 : 0.00%\n",
      "Genre 9 : 0.00%\n"
     ]
    },
    {
     "data": {
      "image/png": "[encoded data removed]",
      "text/plain": [
       "<Figure size 432x288 with 1 Axes>"
      ]
     },
     "metadata": {
      "tags": []
     },
     "output_type": "display_data"
    },
    {
     "name": "stdout",
     "output_type": "stream",
     "text": [
      "-------------------- Prédictions par chanson --------------------\n",
      "Global accuracy : 10.00%\n",
      "Genre 0 : 0.00%\n",
      "Genre 1 : 0.00%\n",
      "Genre 2 : 100.00%\n",
      "Genre 3 : 0.00%\n",
      "Genre 4 : 0.00%\n",
      "Genre 5 : 0.00%\n",
      "Genre 6 : 0.00%\n",
      "Genre 7 : 0.00%\n",
      "Genre 8 : 0.00%\n",
      "Genre 9 : 0.00%\n"
     ]
    },
    {
     "data": {
      "image/png": "[encoded data removed]",
      "text/plain": [
       "<Figure size 432x288 with 1 Axes>"
      ]
     },
     "metadata": {
      "tags": []
     },
     "output_type": "display_data"
    },
    {
     "name": "stdout",
     "output_type": "stream",
     "text": [
      "================================================================================\n",
      "Entrainement et test de prédiction avec SVM (activations de la couche 3 du DBN)\n",
      "-------------------- Segment par segment --------------------\n",
      "Global accuracy : 10.00%\n",
      "Genre 0 : 0.00%\n",
      "Genre 1 : 0.00%\n",
      "Genre 2 : 100.00%\n",
      "Genre 3 : 0.00%\n",
      "Genre 4 : 0.00%\n",
      "Genre 5 : 0.00%\n",
      "Genre 6 : 0.00%\n",
      "Genre 7 : 0.00%\n",
      "Genre 8 : 0.00%\n",
      "Genre 9 : 0.00%\n"
     ]
    },
    {
     "data": {
      "image/png": "[encoded data removed]",
      "text/plain": [
       "<Figure size 432x288 with 1 Axes>"
      ]
     },
     "metadata": {
      "tags": []
     },
     "output_type": "display_data"
    },
    {
     "name": "stdout",
     "output_type": "stream",
     "text": [
      "-------------------- Prédictions par chanson --------------------\n",
      "Global accuracy : 10.00%\n",
      "Genre 0 : 0.00%\n",
      "Genre 1 : 0.00%\n",
      "Genre 2 : 100.00%\n",
      "Genre 3 : 0.00%\n",
      "Genre 4 : 0.00%\n",
      "Genre 5 : 0.00%\n",
      "Genre 6 : 0.00%\n",
      "Genre 7 : 0.00%\n",
      "Genre 8 : 0.00%\n",
      "Genre 9 : 0.00%\n"
     ]
    },
    {
     "data": {
      "image/png": "[encoded data removed]",
      "text/plain": [
       "<Figure size 432x288 with 1 Axes>"
      ]
     },
     "metadata": {
      "tags": []
     },
     "output_type": "display_data"
    }
   ],
   "source": [
    "# Test pour chaque numéro de couche du réseau DBN et affichage des résultats\n",
    "for layer in range(1,4):\n",
    "  print('='*80)\n",
    "  print(\"Entrainement et test de prédiction avec SVM (activations de la couche {} du DBN)\".format(layer))\n",
    "  svm_model = train_svm_dbn(dbn_net, layer, data_train, y_train, 5, 2.5)\n",
    "  (nb_pred, nb_pred_song) = test_pred_svm_dbn(dbn_net, svm_model, layer, data_test, y_test, 5, 2.5)\n",
    "  print('-'*20, \"Segment par segment\", '-'*20)\n",
    "  show_results(nb_pred)\n",
    "  print('-'*20, \"Prédictions par chanson\", '-'*20)\n",
    "  show_results(nb_pred_song)"
   ]
  },
  {
   "cell_type": "markdown",
   "metadata": {
    "colab_type": "text",
    "id": "9Y-9gi0IjdeZ"
   },
   "source": [
    "## Réseau pleinement connecté (Perceptron multi-couches)"
   ]
  },
  {
   "cell_type": "markdown",
   "metadata": {
    "colab_type": "text",
    "id": "Yf61pcKpFafT"
   },
   "source": [
    "### Création et entrainement"
   ]
  },
  {
   "cell_type": "code",
   "execution_count": 0,
   "metadata": {
    "colab": {
     "base_uri": "https://localhost:8080/",
     "height": 368
    },
    "colab_type": "code",
    "id": "5_t-tqj81ZTW",
    "outputId": "630a974c-c289-46be-a108-54ee85c844ea"
   },
   "outputs": [
    {
     "name": "stdout",
     "output_type": "stream",
     "text": [
      "Epoch:  1 train loss: 1.6398 train acc: 43.85 val loss: 1.4761 val acc: 49.41\n",
      "Epoch:  2 train loss: 1.4212 train acc: 51.26 val loss: 1.3800 val acc: 52.61\n",
      "Epoch:  3 train loss: 1.3487 train acc: 53.59 val loss: 1.3339 val acc: 54.07\n",
      "Epoch:  4 train loss: 1.3068 train acc: 54.89 val loss: 1.3088 val acc: 54.94\n",
      "Epoch:  5 train loss: 1.2807 train acc: 55.77 val loss: 1.2891 val acc: 55.52\n",
      "Epoch:  6 train loss: 1.2610 train acc: 56.40 val loss: 1.2767 val acc: 55.92\n",
      "Epoch:  7 train loss: 1.2464 train acc: 56.89 val loss: 1.2701 val acc: 56.13\n",
      "Epoch:  8 train loss: 1.2351 train acc: 57.27 val loss: 1.2644 val acc: 56.24\n",
      "Epoch:  9 train loss: 1.2260 train acc: 57.58 val loss: 1.2601 val acc: 56.27\n",
      "Epoch:  10 train loss: 1.2181 train acc: 57.77 val loss: 1.2560 val acc: 56.32\n",
      "Epoch:  11 train loss: 1.2111 train acc: 58.04 val loss: 1.2509 val acc: 56.53\n",
      "Epoch:  12 train loss: 1.2055 train acc: 58.21 val loss: 1.2487 val acc: 56.52\n",
      "Epoch:  13 train loss: 1.2008 train acc: 58.36 val loss: 1.2403 val acc: 56.74\n",
      "Epoch:  14 train loss: 1.1957 train acc: 58.52 val loss: 1.2332 val acc: 57.06\n",
      "Epoch:  15 train loss: 1.1903 train acc: 58.67 val loss: 1.2254 val acc: 57.32\n",
      "Epoch:  16 train loss: 1.1858 train acc: 58.81 val loss: 1.2239 val acc: 57.38\n",
      "Epoch:  17 train loss: 1.1813 train acc: 58.96 val loss: 1.2193 val acc: 57.54\n",
      "Epoch:  18 train loss: 1.1772 train acc: 59.13 val loss: 1.2143 val acc: 57.74\n",
      "Epoch:  19 train loss: 1.1735 train acc: 59.26 val loss: 1.2133 val acc: 57.81\n",
      "Epoch:  20 train loss: 1.1707 train acc: 59.37 val loss: 1.2094 val acc: 57.96\n"
     ]
    }
   ],
   "source": [
    "# Création du réseau\n",
    "mlp_net = MLP(N_FEATURES,[50, 50, 10])\n",
    "# Entrainement du réseau\n",
    "(train_losses, train_acc, val_losses, val_acc) = train_model(mlp_net, data_X_train, data_y_train, data_X_val, data_y_val, 20, 500, 0.001, 1e-3)"
   ]
  },
  {
   "cell_type": "code",
   "execution_count": 0,
   "metadata": {
    "colab": {
     "base_uri": "https://localhost:8080/",
     "height": 581
    },
    "colab_type": "code",
    "id": "aTz_kavDGTpR",
    "outputId": "6ca6ae9b-7000-402e-bf83-0ccef43b0c63"
   },
   "outputs": [
    {
     "data": {
      "image/png": "[encoded data removed]",
      "text/plain": [
       "<Figure size 432x288 with 1 Axes>"
      ]
     },
     "metadata": {
      "tags": []
     },
     "output_type": "display_data"
    },
    {
     "data": {
      "image/png": "[encoded data removed]",
      "text/plain": [
       "<Figure size 432x288 with 1 Axes>"
      ]
     },
     "metadata": {
      "tags": []
     },
     "output_type": "display_data"
    }
   ],
   "source": [
    "# Affichage des graphiques de cout et de précision selon l'époque pour les données d'entrainement et les données de validation\n",
    "plt.figure()\n",
    "plt.plot(np.arange(len(val_losses)), val_losses)\n",
    "plt.plot(np.arange(len(train_losses)), train_losses)\n",
    "plt.legend(['Validation', 'Training'])\n",
    "plt.title(\"Évolution du coût selon l'époque\")\n",
    "plt.xlabel('Époque')\n",
    "plt.ylabel('Coût')\n",
    "plt.grid()\n",
    "\n",
    "plt.figure()\n",
    "plt.plot(np.arange(len(val_acc)), val_acc)\n",
    "plt.plot(np.arange(len(train_acc)), train_acc)\n",
    "plt.legend(['Validation', 'Training'])\n",
    "plt.title(\"Évolution de la précision selon l'époque\")\n",
    "plt.xlabel('Époque')\n",
    "plt.ylabel(\"Précision sur l'ensemble de validation\")\n",
    "plt.grid()\n",
    "\n",
    "plt.show()"
   ]
  },
  {
   "cell_type": "markdown",
   "metadata": {
    "colab_type": "text",
    "id": "bsvGCuqsFgdu"
   },
   "source": [
    "### Évaluation de la performance"
   ]
  },
  {
   "cell_type": "code",
   "execution_count": 0,
   "metadata": {
    "colab": {},
    "colab_type": "code",
    "id": "c_FUb68lcgQ0"
   },
   "outputs": [],
   "source": [
    "# Évaluation de la précision globale sur l'ensemble de test\n",
    "total = 0.\n",
    "correct = 0.\n",
    "with torch.no_grad():\n",
    "  out = mlp_net.forward(data_X_test)\n",
    "  _, predicted = torch.max(out.data, 1)\n",
    "  total += data_y_test.size(0)\n",
    "  correct += predicted.eq(data_y_test.data).cpu().sum()\n",
    "test_acc = 100.* correct/total\n",
    "print(\"Accuracy on test set : {:.2f}%\".format(test_acc))"
   ]
  },
  {
   "cell_type": "code",
   "execution_count": 0,
   "metadata": {
    "colab": {},
    "colab_type": "code",
    "id": "V4nP7NDufK51"
   },
   "outputs": [],
   "source": [
    "# Évaluation de la précision par genre\n",
    "nb_pred = np.zeros((10,10))\n",
    "for i in range(10):\n",
    "  for j in range(10):\n",
    "    nb_pred[i,j] = (predicted.eq(j) & data_y_test.eq(i)).cpu().sum()"
   ]
  },
  {
   "cell_type": "code",
   "execution_count": 0,
   "metadata": {
    "colab": {
     "base_uri": "https://localhost:8080/",
     "height": 524
    },
    "colab_type": "code",
    "id": "KOd9a3ngov6q",
    "outputId": "42641fa8-26bf-43b8-b8f6-407bef9963f9"
   },
   "outputs": [
    {
     "name": "stdout",
     "output_type": "stream",
     "text": [
      "Global accuracy : 58.20%\n",
      "Genre 0 | blues | 64.73%\n",
      "Genre 1 | classical | 88.47%\n",
      "Genre 2 | country | 50.30%\n",
      "Genre 3 | disco | 33.80%\n",
      "Genre 4 | hiphop | 43.08%\n",
      "Genre 5 | jazz | 68.91%\n",
      "Genre 6 | metal | 80.83%\n",
      "Genre 7 | pop | 68.66%\n",
      "Genre 8 | reggae | 45.34%\n",
      "Genre 9 | rock | 37.00%\n"
     ]
    },
    {
     "data": {
      "image/png": "[encoded data removed]",
      "text/plain": [
       "<Figure size 432x288 with 1 Axes>"
      ]
     },
     "metadata": {
      "tags": []
     },
     "output_type": "display_data"
    },
    {
     "data": {
      "text/plain": [
       "array([64.72583086, 88.46566798, 50.29610176, 33.79653635, 43.07636098,\n",
       "       68.90512462, 80.82695253, 68.65963468, 45.33775383, 37.00342288])"
      ]
     },
     "execution_count": 76,
     "metadata": {
      "tags": []
     },
     "output_type": "execute_result"
    }
   ],
   "source": [
    "# Affichage des résultats\n",
    "show_results(nb_pred)"
   ]
  }
 ],
 "metadata": {
  "accelerator": "GPU",
  "colab": {
   "collapsed_sections": [],
   "machine_shape": "hm",
   "name": "DBN training.ipynb",
   "provenance": [],
   "toc_visible": true
  },
  "kernelspec": {
   "display_name": "Python 3",
   "language": "python",
   "name": "python3"
  },
  "language_info": {
   "codemirror_mode": {
    "name": "ipython",
    "version": 3
   },
   "file_extension": ".py",
   "mimetype": "text/x-python",
   "name": "python",
   "nbconvert_exporter": "python",
   "pygments_lexer": "ipython3",
   "version": "3.6.7"
  }
 },
 "nbformat": 4,
 "nbformat_minor": 1
}
